{
 "cells": [
  {
   "cell_type": "markdown",
   "id": "5a1e2867",
   "metadata": {},
   "source": [
    "# NumPy Assignment"
   ]
  },
  {
   "cell_type": "code",
   "execution_count": 162,
   "id": "562cb0ca",
   "metadata": {},
   "outputs": [],
   "source": [
    "import numpy as np"
   ]
  },
  {
   "cell_type": "code",
   "execution_count": 198,
   "id": "e7ea5aa2",
   "metadata": {},
   "outputs": [
    {
     "data": {
      "text/plain": [
       "array([[20],\n",
       "       [25],\n",
       "       [ 2],\n",
       "       [12]])"
      ]
     },
     "execution_count": 198,
     "metadata": {},
     "output_type": "execute_result"
    }
   ],
   "source": [
    "data=np.random.randint(low=1, high=30,size=(4,1))\n",
    "data"
   ]
  },
  {
   "cell_type": "markdown",
   "id": "26afcfcf",
   "metadata": {},
   "source": [
    "# Write a function so that the columns of the output matrix are powers of the input vector."
   ]
  },
  {
   "cell_type": "code",
   "execution_count": 282,
   "id": "d384220e",
   "metadata": {},
   "outputs": [],
   "source": [
    "def output_matrix(dataset,width):  \n",
    "    m = dataset.shape[0]\n",
    "    n = width\n",
    "    \n",
    "    matrix = np.zeros((m,n),dtype=int)\n",
    "    \n",
    "    #dataset = dataset.T\n",
    "    \n",
    "    for i in range(m):\n",
    "        for j in range(n):\n",
    "            if j == 0 :\n",
    "                matrix[i][j] = 1\n",
    "            else:\n",
    "                matrix[i][j] = matrix[i][j-1]*dataset[i]\n",
    "                \n",
    "    return matrix"
   ]
  },
  {
   "cell_type": "code",
   "execution_count": 283,
   "id": "c22e998a",
   "metadata": {},
   "outputs": [
    {
     "data": {
      "text/plain": [
       "array([[     1,     20,    400,   8000, 160000],\n",
       "       [     1,     25,    625,  15625, 390625],\n",
       "       [     1,      2,      4,      8,     16],\n",
       "       [     1,     12,    144,   1728,  20736]])"
      ]
     },
     "execution_count": 283,
     "metadata": {},
     "output_type": "execute_result"
    }
   ],
   "source": [
    "output_matrix(data,5)"
   ]
  },
  {
   "cell_type": "markdown",
   "id": "2848e7f4",
   "metadata": {},
   "source": [
    "# Question: Write a function to find moving average in an array over a window:\n",
    "Test it over [3, 5, 7, 2, 8, 10, 11, 65, 72, 81, 99, 100, 150] and window of 3."
   ]
  },
  {
   "cell_type": "code",
   "execution_count": 201,
   "id": "7dc438d8",
   "metadata": {},
   "outputs": [],
   "source": [
    "list = [3, 5, 7, 2, 8, 10, 11, 65, 72, 81, 99, 100, 150]"
   ]
  },
  {
   "cell_type": "code",
   "execution_count": 204,
   "id": "aca72060",
   "metadata": {},
   "outputs": [],
   "source": [
    "k = 3"
   ]
  },
  {
   "cell_type": "code",
   "execution_count": 253,
   "id": "95e90efb",
   "metadata": {},
   "outputs": [
    {
     "name": "stdout",
     "output_type": "stream",
     "text": [
      "[5.0, 4.666666666666667, 5.666666666666667, 6.666666666666667, 9.666666666666666, 28.666666666666668, 49.333333333333336, 72.66666666666667, 84.0, 93.33333333333333]\n",
      "Thus, the moving average sequence has 11 values.\n"
     ]
    }
   ],
   "source": [
    "matrix = []\n",
    "for i in range(len(list)):\n",
    "    if i >= k:\n",
    "        value = np.sum(list[i-k:i])/k\n",
    "        matrix.append(value)\n",
    "\n",
    "print (matrix)\n",
    "print ('Thus, the moving average sequence has ' + str(len(matrix)+1) + ' values.')"
   ]
  },
  {
   "cell_type": "code",
   "execution_count": 215,
   "id": "2388889d",
   "metadata": {
    "scrolled": true
   },
   "outputs": [
    {
     "data": {
      "text/plain": [
       "[5.0,\n",
       " 4.666666666666667,\n",
       " 5.666666666666667,\n",
       " 6.666666666666667,\n",
       " 9.666666666666666,\n",
       " 28.666666666666668,\n",
       " 49.333333333333336,\n",
       " 72.66666666666667,\n",
       " 84.0,\n",
       " 93.33333333333333,\n",
       " 116.33333333333333]"
      ]
     },
     "execution_count": 215,
     "metadata": {},
     "output_type": "execute_result"
    }
   ],
   "source": [
    "matrix"
   ]
  },
  {
   "cell_type": "code",
   "execution_count": 227,
   "id": "92fd0155",
   "metadata": {},
   "outputs": [
    {
     "data": {
      "text/plain": [
       "5.0"
      ]
     },
     "execution_count": 227,
     "metadata": {},
     "output_type": "execute_result"
    }
   ],
   "source": [
    "np.sum(list[0:3])/3"
   ]
  },
  {
   "cell_type": "code",
   "execution_count": 264,
   "id": "6d7385b6",
   "metadata": {},
   "outputs": [],
   "source": [
    "def moving_average(data,moving_period):\n",
    "    k = moving_period\n",
    "    \n",
    "    matrix = []\n",
    "    for i in range(len(list)):\n",
    "        if i >= k:\n",
    "            value = np.sum(list[i-k:i])/k\n",
    "            matrix.append(np.round(value,2))\n",
    "\n",
    "    return(matrix,'Thus, the moving average sequence has ' + str(len(matrix)+1) + ' values.')\n",
    "    #return ('Thus, the moving average sequence has ' + str(len(matrix)+1) + ' values.')\n"
   ]
  },
  {
   "cell_type": "code",
   "execution_count": 265,
   "id": "21358e8e",
   "metadata": {},
   "outputs": [
    {
     "data": {
      "text/plain": [
       "([4.0, 6.0, 4.5, 5.0, 9.0, 10.5, 38.0, 68.5, 76.5, 90.0, 99.5],\n",
       " 'Thus, the moving average sequence has 12 values.')"
      ]
     },
     "execution_count": 265,
     "metadata": {},
     "output_type": "execute_result"
    }
   ],
   "source": [
    "moving_average(list,2)"
   ]
  }
 ],
 "metadata": {
  "kernelspec": {
   "display_name": "Python 3",
   "language": "python",
   "name": "python3"
  },
  "language_info": {
   "codemirror_mode": {
    "name": "ipython",
    "version": 3
   },
   "file_extension": ".py",
   "mimetype": "text/x-python",
   "name": "python",
   "nbconvert_exporter": "python",
   "pygments_lexer": "ipython3",
   "version": "3.8.5"
  }
 },
 "nbformat": 4,
 "nbformat_minor": 5
}
