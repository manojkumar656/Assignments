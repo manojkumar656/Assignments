{
 "cells": [
  {
   "cell_type": "code",
   "execution_count": 1,
   "id": "ab18a539",
   "metadata": {},
   "outputs": [],
   "source": [
    "import numpy as np\n",
    "import statistics\n",
    "from scipy import stats"
   ]
  },
  {
   "cell_type": "raw",
   "id": "48ecfb9d",
   "metadata": {},
   "source": [
    "Calculate the mean, median, mode and standard deviation for the problem\n",
    "statements 1& 2.\n",
    "\n",
    "Problem Statement 1:\n",
    "The marks awarded for an assignment set for a Year 8 class of 20 students were as\n",
    "follows:\n",
    "6 7 5 7 7 8 7 6 9 7 4 10 6 8 8 9 5 6 4 8"
   ]
  },
  {
   "cell_type": "code",
   "execution_count": 2,
   "id": "fa3b76b2",
   "metadata": {},
   "outputs": [
    {
     "name": "stdout",
     "output_type": "stream",
     "text": [
      "Mean is : 6.85\n",
      "Median is : 7.0\n",
      "Mode is : ModeResult(mode=array([7]), count=array([5]))\n",
      "Standard Deviation is : 1.6311119875071343\n"
     ]
    }
   ],
   "source": [
    "#Problem 1\n",
    "list = [6, 7, 5, 7, 7, 8, 7, 6, 9, 7, 4, 10, 6, 8, 8, 9, 5, 6, 4, 8]\n",
    "mean = np.mean(list)\n",
    "median = np.median(list)\n",
    "mode = stats.mode(list)\n",
    "std_dev = statistics.stdev(list)\n",
    "print(\"Mean is :\", mean)\n",
    "print(\"Median is :\", median)\n",
    "print(\"Mode is :\", mode)\n",
    "print(\"Standard Deviation is :\", std_dev)"
   ]
  },
  {
   "cell_type": "raw",
   "id": "852d26fa",
   "metadata": {},
   "source": [
    "Problem Statement 2:\n",
    "The number of calls from motorists per day for roadside service was recorded for a\n",
    "particular month:\n",
    "28, 122, 217, 130, 120, 86, 80, 90, 140, 120, 70, 40, 145, 113, 90, 68, 174, 194, 170,\n",
    "100, 75, 104, 97, 75,\n",
    "123, 100, 75, 104, 97, 75, 123, 100, 89, 120, 109"
   ]
  },
  {
   "cell_type": "code",
   "execution_count": 3,
   "id": "de5c7f38",
   "metadata": {},
   "outputs": [
    {
     "name": "stdout",
     "output_type": "stream",
     "text": [
      "Mean is : 107.51428571428572\n",
      "Median is : 100.0\n",
      "Mode is : ModeResult(mode=array([75]), count=array([4]))\n",
      "Standard Deviation is : 39.33892805484412\n"
     ]
    }
   ],
   "source": [
    "#Problem 2\n",
    "list2 = [28, 122, 217, 130, 120, 86, 80, 90, 140, 120, 70, 40, 145, 113, 90, 68, 174, 194, 170, 100, 75, 104, 97, 75,\n",
    "123, 100, 75, 104, 97, 75, 123, 100, 89, 120, 109]\n",
    "mean = np.mean(list2)\n",
    "median = np.median(list2)\n",
    "mode = stats.mode(list2)\n",
    "std_dev = statistics.stdev(list2)\n",
    "print(\"Mean is :\", mean)\n",
    "print(\"Median is :\", median)\n",
    "print(\"Mode is :\", mode)\n",
    "print(\"Standard Deviation is :\", std_dev)"
   ]
  },
  {
   "cell_type": "raw",
   "id": "dc4ed1b7",
   "metadata": {},
   "source": [
    "Problem Statement 3:\n",
    "The number of times I go to the gym in weekdays, are given below along with its\n",
    "associated probability:\n",
    "x = 0, 1, 2, 3, 4, 5\n",
    "f(x) = 0.09, 0.15, 0.40, 0.25, 0.10, 0.01\n",
    "Calculate the mean no. of workouts in a week. Also evaluate the variance involved in\n",
    "it."
   ]
  },
  {
   "cell_type": "code",
   "execution_count": 4,
   "id": "9c81429b",
   "metadata": {
    "scrolled": true
   },
   "outputs": [
    {
     "name": "stdout",
     "output_type": "stream",
     "text": [
      "Mean is : 2.15\n",
      "Variance is : 1.2275\n"
     ]
    }
   ],
   "source": [
    "#Problem3\n",
    "x = [0, 1, 2, 3, 4, 5]\n",
    "fx = [0.09, 0.15, 0.40, 0.25, 0.10, 0.01]\n",
    "mean = sum([fx[i]*x[i] for i in range(len(x))])\n",
    "variance = sum([((mean-x[i])**2)*fx[i] for i in range(len(x))])\n",
    "print(\"Mean is :\", mean)\n",
    "print(\"Variance is :\",variance)"
   ]
  },
  {
   "cell_type": "raw",
   "id": "4fa1b335",
   "metadata": {},
   "source": [
    "Problem Statement 4:\n",
    "Let the continuous random variable D denote the diameter of the hole drilled in an\n",
    "aluminum sheet. The target diameter to be achieved is 12.5mm. Random\n",
    "disturbances in the process often result in inaccuracy.\n",
    "Historical data shows that the distribution of D can be modelled by the PDF (𝑑) =\n",
    "20𝑒−20(𝑑−12.5), 𝑑 ≥ 12.5. If a part with diameter > 12.6 mm needs to be scrapped,\n",
    "what is the proportion of those parts? What is the CDF when the diameter is of 11\n",
    "mm? What is your conclusion regarding the proportion of scraps?"
   ]
  },
  {
   "cell_type": "raw",
   "id": "1b20b93d",
   "metadata": {},
   "source": [
    "#Problem4\n",
    "Not able to solve"
   ]
  },
  {
   "cell_type": "raw",
   "id": "e6e4403a",
   "metadata": {},
   "source": [
    "Problem Statement 5:\n",
    "A company manufactures LED bulbs with a faulty rate of 30%. If I randomly select 6\n",
    "chosen LEDs, what is the probability of having 2 faulty LEDs in my sample?\n",
    "Calculate the average value of this process. Also evaluate the standard deviation\n",
    "associated with it."
   ]
  },
  {
   "cell_type": "code",
   "execution_count": 5,
   "id": "3e347a7d",
   "metadata": {},
   "outputs": [
    {
     "name": "stdout",
     "output_type": "stream",
     "text": [
      "Probability is : 0.32606\n",
      "Mean is :  1.7999999999999998\n",
      "Standard Deviation for this process is :  1.12\n"
     ]
    }
   ],
   "source": [
    "from scipy.stats import binom\n",
    "n=6\n",
    "p =.3\n",
    "q = 2\n",
    "add = sum(np.random.binomial(n,p,50000) == q)/50000\n",
    "print(\"Probability is :\",add)\n",
    "mean,var = binom.stats(n,p)\n",
    "std = round(var**.5,2)\n",
    "print(\"Mean is : \", mean)\n",
    "print(\"Standard Deviation for this process is : \", std)"
   ]
  },
  {
   "cell_type": "markdown",
   "id": "78d28b98",
   "metadata": {},
   "source": [
    "Gaurav and Barakha are both preparing for entrance exams. Gaurav attempts to solve 8 questions per day with a correction rate of 75%, while Barakha averages around 12 questions per day with a correction rate of 45%. What is the probability\n",
    "that each of them will solve 5 questions correctly? What happens in cases of 4 and 6 correct solutions? What do you infer from it? What are the two main governing factors affecting their ability to solve questions correctly? Give a pictorial\n",
    "representation of the same to validate your answer."
   ]
  },
  {
   "cell_type": "code",
   "execution_count": 6,
   "id": "548791a6",
   "metadata": {},
   "outputs": [
    {
     "ename": "NameError",
     "evalue": "name 'plt' is not defined",
     "output_type": "error",
     "traceback": [
      "\u001b[1;31m---------------------------------------------------------------------------\u001b[0m",
      "\u001b[1;31mNameError\u001b[0m                                 Traceback (most recent call last)",
      "\u001b[1;32m<ipython-input-6-4f6d29f61fe2>\u001b[0m in \u001b[0;36m<module>\u001b[1;34m\u001b[0m\n\u001b[0;32m     14\u001b[0m \u001b[1;33m\u001b[0m\u001b[0m\n\u001b[0;32m     15\u001b[0m \u001b[1;31m#plotting the graph\u001b[0m\u001b[1;33m\u001b[0m\u001b[1;33m\u001b[0m\u001b[1;33m\u001b[0m\u001b[0m\n\u001b[1;32m---> 16\u001b[1;33m \u001b[0mfig\u001b[0m \u001b[1;33m=\u001b[0m \u001b[0mplt\u001b[0m\u001b[1;33m.\u001b[0m\u001b[0mfigure\u001b[0m\u001b[1;33m(\u001b[0m\u001b[0mfigsize\u001b[0m\u001b[1;33m=\u001b[0m\u001b[1;33m(\u001b[0m\u001b[1;36m18\u001b[0m\u001b[1;33m,\u001b[0m\u001b[1;36m8\u001b[0m\u001b[1;33m)\u001b[0m\u001b[1;33m)\u001b[0m\u001b[1;33m\u001b[0m\u001b[1;33m\u001b[0m\u001b[0m\n\u001b[0m\u001b[0;32m     17\u001b[0m \u001b[0mplt\u001b[0m\u001b[1;33m.\u001b[0m\u001b[0msubplot\u001b[0m\u001b[1;33m(\u001b[0m\u001b[1;36m1\u001b[0m\u001b[1;33m,\u001b[0m\u001b[1;36m2\u001b[0m\u001b[1;33m,\u001b[0m\u001b[1;36m1\u001b[0m\u001b[1;33m)\u001b[0m\u001b[1;33m\u001b[0m\u001b[1;33m\u001b[0m\u001b[0m\n\u001b[0;32m     18\u001b[0m \u001b[0mplt\u001b[0m\u001b[1;33m.\u001b[0m\u001b[0mtitle\u001b[0m\u001b[1;33m(\u001b[0m\u001b[1;34m'Gaurav\\'s probability distribution'\u001b[0m\u001b[1;33m)\u001b[0m\u001b[1;33m\u001b[0m\u001b[1;33m\u001b[0m\u001b[0m\n",
      "\u001b[1;31mNameError\u001b[0m: name 'plt' is not defined"
     ]
    }
   ],
   "source": [
    "#settings p and n values\n",
    "n_gaurav = 8\n",
    "p_gaurav = .75\n",
    "n_barkha = 12\n",
    "p_barkha = .45\n",
    "\n",
    "#defining range for r\n",
    "r_values_gaurav = range(n_gaurav+1)\n",
    "r_values_barkha = range(n_barkha+1)\n",
    "\n",
    "#list of pmf values\n",
    "dist_gaurav = [binom.pmf(r,n_gaurav,p_gaurav) for r in r_values_gaurav]\n",
    "dist_barkha = [binom.pmf(r,n_barkha,p_barkha) for r in r_values_barkha]\n",
    "\n",
    "#plotting the graph\n",
    "fig = plt.figure(figsize=(18,8))\n",
    "plt.subplot(1,2,1)\n",
    "plt.title('Gaurav\\'s probability distribution')\n",
    "plt.xlabel('Number of questions solved correctly')\n",
    "plt.ylabel('Probability of solving')\n",
    "plt.bar(r_values_gaurav,dist_gaurav)\n",
    "plt.subplot(1,2,2)\n",
    "plt.title('Barkha\\'s probability distribution')\n",
    "plt.xlabel('Number of questions solved correctly')\n",
    "plt.ylabel('Probability of solving')\n",
    "plt.bar(r_values_barkha,dist_barkha)\n",
    "plt.show()\n"
   ]
  },
  {
   "cell_type": "markdown",
   "id": "2fb4ec87",
   "metadata": {},
   "source": [
    "Problem Statement 7:\n",
    "Customers arrive at a rate of 72 per hour to my shop. What is the probability of 𝑘 customers arriving in 4 minutes? a) 5 customers, b) not more than 3 customers, c) more than 3 customers. Give a pictorial representation of the same to validate your answer."
   ]
  },
  {
   "cell_type": "code",
   "execution_count": null,
   "id": "0fc497ab",
   "metadata": {},
   "outputs": [],
   "source": [
    "from scipy.stats import poisson\n",
    "import seaborn as sb\n",
    "data_binom = poisson.rvs(mu=4.8, size=200)\n",
    "\n",
    "ax = sb.distplot(data_binom)\n",
    "ax.set(xlabel='Customers per 4 minutes', ylabel='Frequency')\n",
    "plt.title('Poisson distribution')\n",
    "plt.show()"
   ]
  },
  {
   "cell_type": "code",
   "execution_count": null,
   "id": "2e0abfe4",
   "metadata": {},
   "outputs": [],
   "source": [
    "import numpy as np\n",
    "x = np.arange(0,25)\n",
    "prob=poisson.cdf(x,4.8)\n",
    "y = prob[3]\n",
    "print('Probability of not more than 3 customers is', round(y,3))\n",
    "print('Probability of more than 3 customers is', round(1-y,3))\n",
    "plt.plot(prob)\n",
    "plt.plot((3,3),(0,1))\n",
    "plt.scatter(3,prob[3])\n",
    "plt.text(3,prob[3],'({}, {})'.format(3, round(prob[3],3)))\n",
    "plt.title('CDF of poisson distribution')\n",
    "plt.show()"
   ]
  },
  {
   "cell_type": "raw",
   "id": "ecbe7121",
   "metadata": {},
   "source": [
    "Problem Statement 11:\n",
    "The current flow in a copper wire follow a normal distribution with a mean of 10 𝑚A and a variance of 4 (𝑚𝐴)2.\n",
    "What is the probability that a current measurement will exceed 13 𝑚𝐴? What is the probability that a current measurement is between 9 and 11mA? Determine thecurrent measurement which has a probability of 0.98."
   ]
  },
  {
   "cell_type": "markdown",
   "id": "c41d984c",
   "metadata": {},
   "source": [
    "#Answer11\n",
    "Mean current is 10mA, Variance is 4mA, Standard deviation is 2. Z score for 13 mA Current is (13-10)/2 = 1.5. \n",
    "We need to find P(Z>z) = P(Z>1.5) = 1-P(Z<1.5).\n",
    "Using tables, we find that (P<1.5c) is .933. So prabability of P(Z>1.5) is 1-.933 = .067. \n",
    "Prabability that a current exceeding 13mA will flow is .33\n",
    "Z-Score for 9 mA current is (9-10)/2 =-.5 \n",
    "Z Score for 11mA current is (11-10)/2 = .5\n",
    "We need to find P(-0.5<Z<0.5) = P(Z<0.5)-P(Z<-0.5) = 0.69-0.309 = 0.382 ~~ 0.38\n",
    "P(Z<z) = 0.98 \n",
    "We need to find z using tables, z comes around 2.05.\n",
    "current equation of z is : 2.05*2+10 = 4.1+10 = 14.1mA"
   ]
  },
  {
   "cell_type": "raw",
   "id": "79e5374c",
   "metadata": {},
   "source": [
    "Problem Statement 12:\n",
    "The shaft in a piston has its diameter normally distributed with a mean of 0.2508 inch and a standard deviation of 0.0005 inch. The specifications of the shaft are 0.2500 ∓ 0.0015 inch. What proportion of shafts are in sync with the specifications? If the process is centered so that the mean is equal to the target value of 0.2500, what proportion of shafts conform to the new specifications? What is your conclusion from this experiment?"
   ]
  },
  {
   "cell_type": "raw",
   "id": "19347e2c",
   "metadata": {},
   "source": [
    "Mean diameter is .2509. Standard Deviation is .0005 inch. Z-score for (0.2500-0.0015) = .2485 is (.2485-.2508)/.0005 = -4.6\n",
    "z score for (.2500+.0015) = .2515 is (.2515-.2508)/.0005 = 1.4\n",
    "We need to find P(-4.6<Z<1.4) = P(Z<1.4) - P(Z<-4.6)=.92\n",
    "So, .92 of the shafts are in sync\n",
    "\n",
    "If mean is .2500 then, z-scroe for (.2500-0.0015=.2485) is (.2485-.2500)/.0005 =.3\n",
    "z-score for (.2500+.0015)=.2515 is (.2515-.2500)/.0005=3\n",
    "We need to find P(-3<Z<3) = P(Z<3)-P(Z<-3)= .9973\n",
    "So, .9973 of the shafts are in sync\n",
    "\n",
    "So if we change the mean from .2508 to .2500 the proportion of shaft increases from 92% to 99.73%"
   ]
  },
  {
   "cell_type": "code",
   "execution_count": null,
   "id": "2bcbf946",
   "metadata": {},
   "outputs": [],
   "source": []
  },
  {
   "cell_type": "code",
   "execution_count": null,
   "id": "735fa5d9",
   "metadata": {},
   "outputs": [],
   "source": []
  },
  {
   "cell_type": "code",
   "execution_count": null,
   "id": "4dd4cdce",
   "metadata": {},
   "outputs": [],
   "source": []
  },
  {
   "cell_type": "code",
   "execution_count": null,
   "id": "277f7f72",
   "metadata": {},
   "outputs": [],
   "source": []
  }
 ],
 "metadata": {
  "kernelspec": {
   "display_name": "Python 3",
   "language": "python",
   "name": "python3"
  },
  "language_info": {
   "codemirror_mode": {
    "name": "ipython",
    "version": 3
   },
   "file_extension": ".py",
   "mimetype": "text/x-python",
   "name": "python",
   "nbconvert_exporter": "python",
   "pygments_lexer": "ipython3",
   "version": "3.8.5"
  }
 },
 "nbformat": 4,
 "nbformat_minor": 5
}
