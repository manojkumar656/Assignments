{
 "cells": [
  {
   "cell_type": "markdown",
   "id": "14d8bd94",
   "metadata": {},
   "source": [
    "# 1. Write a function to compute 5/0 and use try/except to catch the exceptions."
   ]
  },
  {
   "cell_type": "code",
   "execution_count": 8,
   "id": "b9f71ab7",
   "metadata": {},
   "outputs": [],
   "source": [
    "def test(a,b):\n",
    "    try:\n",
    "        return a/b\n",
    "    except Exception as e:\n",
    "        print(e)\n",
    "    except IOError as e :\n",
    "        print(e)\n",
    "    except ArithmeticError as e :\n",
    "        print(e)\n",
    "    except FileNotFoundError as e :\n",
    "        print(e)\n",
    "    except ValueError as e :\n",
    "        print(e) \n",
    "    finally:\n",
    "        print(\"function executed\")"
   ]
  },
  {
   "cell_type": "code",
   "execution_count": 11,
   "id": "fcf9e695",
   "metadata": {},
   "outputs": [
    {
     "name": "stdout",
     "output_type": "stream",
     "text": [
      "division by zero\n",
      "function executed\n"
     ]
    }
   ],
   "source": [
    "test(5,0)"
   ]
  },
  {
   "cell_type": "markdown",
   "id": "cbd6df53",
   "metadata": {},
   "source": [
    "# 2. Implement a Python program to generate all sentences where subject is in\n",
    "[\"Americans\", \"Indians\"] and verb is in [\"Play\", \"watch\"] and the object is in\n",
    "[\"Baseball\",\"cricket\"]."
   ]
  },
  {
   "cell_type": "code",
   "execution_count": 23,
   "id": "28aadae7",
   "metadata": {},
   "outputs": [],
   "source": [
    "subject = [\"Americans\", \"Indians\"] \n",
    "verbs = [\"Play\", \"watch\"]\n",
    "objects = [\"Baseball\",\"cricket\"]"
   ]
  },
  {
   "cell_type": "code",
   "execution_count": 28,
   "id": "0fd15bc3",
   "metadata": {},
   "outputs": [],
   "source": [
    "def test2(subject,verbs,objects):\n",
    "    for i in range(len(subject)):\n",
    "        for j in range(len(verbs)):\n",
    "            for k in range(len(objects)):\n",
    "                print(subject[i], \" \", verbs[j], \" \", objects[k])"
   ]
  },
  {
   "cell_type": "code",
   "execution_count": 29,
   "id": "92214d75",
   "metadata": {},
   "outputs": [
    {
     "name": "stdout",
     "output_type": "stream",
     "text": [
      "Americans   Play   Baseball\n",
      "Americans   Play   cricket\n",
      "Americans   watch   Baseball\n",
      "Americans   watch   cricket\n",
      "Indians   Play   Baseball\n",
      "Indians   Play   cricket\n",
      "Indians   watch   Baseball\n",
      "Indians   watch   cricket\n"
     ]
    }
   ],
   "source": [
    "test2(subject,verbs,objects)"
   ]
  }
 ],
 "metadata": {
  "kernelspec": {
   "display_name": "Python 3",
   "language": "python",
   "name": "python3"
  },
  "language_info": {
   "codemirror_mode": {
    "name": "ipython",
    "version": 3
   },
   "file_extension": ".py",
   "mimetype": "text/x-python",
   "name": "python",
   "nbconvert_exporter": "python",
   "pygments_lexer": "ipython3",
   "version": "3.8.5"
  }
 },
 "nbformat": 4,
 "nbformat_minor": 5
}
