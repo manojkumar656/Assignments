{
 "cells": [
  {
   "cell_type": "markdown",
   "id": "e9b820ff",
   "metadata": {},
   "source": [
    "# 1.1 Write a Python Program(with class concepts) to find the area of the triangle using the below formula.\n",
    "area = (s*(s-a)*(s-b)*(s-c)) ** 0.5\n",
    "Function to take the length of the sides of triangle from user should be defined in the parent\n",
    "class and function to calculate the area should be defined in subclass."
   ]
  },
  {
   "cell_type": "code",
   "execution_count": 1,
   "id": "201565b5",
   "metadata": {},
   "outputs": [],
   "source": [
    "class triangle():\n",
    "    \n",
    "    class property():\n",
    "        \n",
    "        def area(self,a,b,c):\n",
    "            self.a=a\n",
    "            self.b=b\n",
    "            self.c=c\n",
    "            s = (a+b+c)/2\n",
    "            area = (s*(s-a)*(s-b)*(s-c)) ** 0.5\n",
    "\n",
    "            print(f\"Area of the triangle is {area}\")"
   ]
  },
  {
   "cell_type": "code",
   "execution_count": 2,
   "id": "eb363692",
   "metadata": {},
   "outputs": [],
   "source": [
    "primary_class = triangle()"
   ]
  },
  {
   "cell_type": "code",
   "execution_count": 3,
   "id": "a9c30a64",
   "metadata": {},
   "outputs": [],
   "source": [
    "subclass = triangle().property()"
   ]
  },
  {
   "cell_type": "code",
   "execution_count": 4,
   "id": "23aa4117",
   "metadata": {},
   "outputs": [
    {
     "name": "stdout",
     "output_type": "stream",
     "text": [
      "Area of the triangle is 3.799671038392666\n"
     ]
    }
   ],
   "source": [
    "p = subclass.area(5,4,2)"
   ]
  },
  {
   "cell_type": "markdown",
   "id": "13822076",
   "metadata": {},
   "source": [
    "# 1.2 Write a function filter_long_words() that takes a list of words and an integer n and returns the list of words that are longer than n."
   ]
  },
  {
   "cell_type": "code",
   "execution_count": 5,
   "id": "3413fb02",
   "metadata": {},
   "outputs": [
    {
     "data": {
      "text/plain": [
       "52"
      ]
     },
     "execution_count": 5,
     "metadata": {},
     "output_type": "execute_result"
    }
   ],
   "source": [
    "string = \"A paragraph is a series of related sentences developing a central idea, called the topic. Try to think about paragraphs in terms of thematic unity: a paragraph is a sentence or a group of sentences that supports one central, unified idea. Paragraphs add one idea at a time to your broader argument.\"\n",
    "list=string.split()\n",
    "len(list)"
   ]
  },
  {
   "cell_type": "code",
   "execution_count": 6,
   "id": "7192a840",
   "metadata": {},
   "outputs": [],
   "source": [
    "def filter_long_words(list,n):\n",
    "    final_list=[]\n",
    "    for i in list:\n",
    "        if len(i) > n:\n",
    "            final_list.append(i)\n",
    "    \n",
    "    return final_list\n",
    "    "
   ]
  },
  {
   "cell_type": "code",
   "execution_count": 7,
   "id": "93a77c00",
   "metadata": {},
   "outputs": [
    {
     "data": {
      "text/plain": [
       "['paragraph',\n",
       " 'related',\n",
       " 'sentences',\n",
       " 'developing',\n",
       " 'central',\n",
       " 'paragraphs',\n",
       " 'thematic',\n",
       " 'paragraph',\n",
       " 'sentence',\n",
       " 'sentences',\n",
       " 'supports',\n",
       " 'central,',\n",
       " 'unified',\n",
       " 'Paragraphs',\n",
       " 'broader',\n",
       " 'argument.']"
      ]
     },
     "execution_count": 7,
     "metadata": {},
     "output_type": "execute_result"
    }
   ],
   "source": [
    "filter_long_words(list,6)"
   ]
  },
  {
   "cell_type": "markdown",
   "id": "54d8257a",
   "metadata": {},
   "source": [
    "# 2.1 Write a Python program using function concept that maps list of words into a list of integers representing the lengths of the corresponding words.\n",
    "Hint: If a list [ ab,cde,erty] is passed on to the python function output should come as [2,3,4]\n",
    "Here 2,3 and 4 are the lengths of the words in the list."
   ]
  },
  {
   "cell_type": "code",
   "execution_count": 8,
   "id": "f836ee07",
   "metadata": {},
   "outputs": [],
   "source": [
    "list = ['ab','cde','erty']"
   ]
  },
  {
   "cell_type": "code",
   "execution_count": 9,
   "id": "d02e5910",
   "metadata": {},
   "outputs": [],
   "source": [
    "def final_list(list):\n",
    "    final_list = []\n",
    "    for i in list:\n",
    "        final_list.append(len(i))\n",
    "    return final_list"
   ]
  },
  {
   "cell_type": "code",
   "execution_count": 10,
   "id": "50b87bdc",
   "metadata": {},
   "outputs": [
    {
     "data": {
      "text/plain": [
       "[2, 3, 4]"
      ]
     },
     "execution_count": 10,
     "metadata": {},
     "output_type": "execute_result"
    }
   ],
   "source": [
    "final_list(list)"
   ]
  },
  {
   "cell_type": "markdown",
   "id": "50045742",
   "metadata": {},
   "source": [
    "# 2.2 Write a Python function which takes a character (i.e. a string of length 1) and returns True if it is a vowel, False otherwise."
   ]
  },
  {
   "cell_type": "code",
   "execution_count": 11,
   "id": "67801b72",
   "metadata": {},
   "outputs": [],
   "source": [
    "vowels = 'aeiouAEIOU'"
   ]
  },
  {
   "cell_type": "code",
   "execution_count": 12,
   "id": "9878d111",
   "metadata": {},
   "outputs": [],
   "source": [
    "def search_vowel():\n",
    "    a = input(\"Enter the String in one character\")\n",
    "    if len(a) ==1:\n",
    "        for i in vowels:\n",
    "            #print(i)\n",
    "            if a == i:\n",
    "                return True\n",
    "                print(f\"final value :{a}\")\n",
    "        return False\n",
    "    else:\n",
    "        print(\"Invalid Character\")\n",
    "    "
   ]
  },
  {
   "cell_type": "code",
   "execution_count": 13,
   "id": "2e5e3c78",
   "metadata": {},
   "outputs": [
    {
     "name": "stdout",
     "output_type": "stream",
     "text": [
      "Enter the String in one charactere\n"
     ]
    },
    {
     "data": {
      "text/plain": [
       "True"
      ]
     },
     "execution_count": 13,
     "metadata": {},
     "output_type": "execute_result"
    }
   ],
   "source": [
    "search_vowel()"
   ]
  },
  {
   "cell_type": "code",
   "execution_count": null,
   "id": "d94467c6",
   "metadata": {},
   "outputs": [],
   "source": []
  }
 ],
 "metadata": {
  "kernelspec": {
   "display_name": "Python 3",
   "language": "python",
   "name": "python3"
  },
  "language_info": {
   "codemirror_mode": {
    "name": "ipython",
    "version": 3
   },
   "file_extension": ".py",
   "mimetype": "text/x-python",
   "name": "python",
   "nbconvert_exporter": "python",
   "pygments_lexer": "ipython3",
   "version": "3.8.5"
  }
 },
 "nbformat": 4,
 "nbformat_minor": 5
}
