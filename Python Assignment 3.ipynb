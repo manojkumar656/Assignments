{
 "cells": [
  {
   "cell_type": "markdown",
   "id": "15722b1e",
   "metadata": {},
   "source": [
    "# 1.1 Write a Python Program to implement your own myreduce() function which works exactly\n",
    "like Python's built-in function reduce()"
   ]
  },
  {
   "cell_type": "code",
   "execution_count": 1,
   "id": "b647f2d9",
   "metadata": {},
   "outputs": [],
   "source": [
    "import numpy as np"
   ]
  },
  {
   "cell_type": "code",
   "execution_count": 2,
   "id": "b6d8b123",
   "metadata": {},
   "outputs": [],
   "source": [
    "l = [2,4,5,6,3,2]"
   ]
  },
  {
   "cell_type": "code",
   "execution_count": 3,
   "id": "74a963b1",
   "metadata": {},
   "outputs": [],
   "source": [
    "from functools import reduce"
   ]
  },
  {
   "cell_type": "code",
   "execution_count": 4,
   "id": "c347f13c",
   "metadata": {},
   "outputs": [
    {
     "data": {
      "text/plain": [
       "22"
      ]
     },
     "execution_count": 4,
     "metadata": {},
     "output_type": "execute_result"
    }
   ],
   "source": [
    "reduce(lambda a,b:a+b,l)"
   ]
  },
  {
   "cell_type": "code",
   "execution_count": 5,
   "id": "4738367b",
   "metadata": {},
   "outputs": [],
   "source": [
    "def myreduce(list):\n",
    "    a = 0\n",
    "    for i in list:\n",
    "        a = a + i\n",
    "        \n",
    "    return a"
   ]
  },
  {
   "cell_type": "code",
   "execution_count": 6,
   "id": "213183d7",
   "metadata": {},
   "outputs": [
    {
     "data": {
      "text/plain": [
       "22"
      ]
     },
     "execution_count": 6,
     "metadata": {},
     "output_type": "execute_result"
    }
   ],
   "source": [
    "myreduce(l)"
   ]
  },
  {
   "cell_type": "markdown",
   "id": "427c4f87",
   "metadata": {},
   "source": [
    "# 1.2 Write a Python program to implement your own myfilter() function which works exactly\n",
    "like Python's built-in function filter()"
   ]
  },
  {
   "cell_type": "code",
   "execution_count": 7,
   "id": "b2674e81",
   "metadata": {},
   "outputs": [],
   "source": [
    "l = [2,4,5,6,3,2]"
   ]
  },
  {
   "cell_type": "code",
   "execution_count": 8,
   "id": "5504d609",
   "metadata": {},
   "outputs": [
    {
     "data": {
      "text/plain": [
       "[6]"
      ]
     },
     "execution_count": 8,
     "metadata": {},
     "output_type": "execute_result"
    }
   ],
   "source": [
    "list(filter(lambda a: a if a>5 else 0,l ))"
   ]
  },
  {
   "cell_type": "code",
   "execution_count": 9,
   "id": "8d4bdeae",
   "metadata": {},
   "outputs": [],
   "source": [
    "def myfilter(l):\n",
    "    a = []\n",
    "    for i in l:\n",
    "        if  i >5:\n",
    "            a.append(i)\n",
    "    print(a)\n",
    "    "
   ]
  },
  {
   "cell_type": "code",
   "execution_count": 10,
   "id": "846e55b8",
   "metadata": {},
   "outputs": [
    {
     "name": "stdout",
     "output_type": "stream",
     "text": [
      "[6]\n"
     ]
    }
   ],
   "source": [
    "myfilter(l)"
   ]
  },
  {
   "cell_type": "raw",
   "id": "7dce8292",
   "metadata": {},
   "source": [
    "2. Implement List comprehensions to produce the following lists.\n",
    "Write List comprehensions to produce the following Lists\n",
    "['x', 'xx', 'xxx', 'xxxx', 'y', 'yy', 'yyy', 'yyyy', 'z', 'zz', 'zzz', 'zzzz']\n",
    "['x', 'y', 'z', 'xx', 'yy', 'zz', 'xxx', 'yyy', 'zzz', 'xxxx', 'yyyy', 'zzzz']\n",
    "[[2], [3], [4], [3], [4], [5], [4], [5], [6]] [[2, 3, 4, 5], [3, 4, 5, 6],\n",
    "[4, 5, 6, 7], [5, 6, 7, 8]]\n",
    "[(1, 1), (2, 1), (3, 1), (1, 2), (2, 2), (3, 2), (1, 3), (2, 3), (3, 3)]"
   ]
  },
  {
   "cell_type": "code",
   "execution_count": 11,
   "id": "6a15cc32",
   "metadata": {},
   "outputs": [],
   "source": [
    "l = ['x','y','z']"
   ]
  },
  {
   "cell_type": "code",
   "execution_count": 12,
   "id": "14f13695",
   "metadata": {
    "scrolled": true
   },
   "outputs": [],
   "source": [
    "list = []\n",
    "for i in l:\n",
    "    for j in range(4):\n",
    "        list.append(i*(j+1))"
   ]
  },
  {
   "cell_type": "code",
   "execution_count": 13,
   "id": "beb8eeb8",
   "metadata": {},
   "outputs": [
    {
     "data": {
      "text/plain": [
       "['x', 'xx', 'xxx', 'xxxx', 'y', 'yy', 'yyy', 'yyyy', 'z', 'zz', 'zzz', 'zzzz']"
      ]
     },
     "execution_count": 13,
     "metadata": {},
     "output_type": "execute_result"
    }
   ],
   "source": [
    "list"
   ]
  },
  {
   "cell_type": "code",
   "execution_count": 14,
   "id": "08b5aebe",
   "metadata": {},
   "outputs": [],
   "source": [
    "list = []\n",
    "for j in range(1,5):\n",
    "    for i in l:\n",
    "        list.append((j)*(i))"
   ]
  },
  {
   "cell_type": "code",
   "execution_count": 15,
   "id": "f656f3cf",
   "metadata": {},
   "outputs": [
    {
     "data": {
      "text/plain": [
       "['x', 'y', 'z', 'xx', 'yy', 'zz', 'xxx', 'yyy', 'zzz', 'xxxx', 'yyyy', 'zzzz']"
      ]
     },
     "execution_count": 15,
     "metadata": {},
     "output_type": "execute_result"
    }
   ],
   "source": [
    "list"
   ]
  },
  {
   "cell_type": "code",
   "execution_count": 16,
   "id": "d4c06fba",
   "metadata": {},
   "outputs": [],
   "source": [
    "l = [2,3,4,5]"
   ]
  },
  {
   "cell_type": "code",
   "execution_count": 17,
   "id": "6e0ff9ca",
   "metadata": {},
   "outputs": [],
   "source": [
    "a=[]\n",
    "for i in l:\n",
    "   a.append(i)"
   ]
  },
  {
   "cell_type": "code",
   "execution_count": 18,
   "id": "af28b249",
   "metadata": {},
   "outputs": [],
   "source": [
    "list=[]\n",
    "list1=[]\n",
    "list2=[]\n",
    "for i in range(4,8):\n",
    "    list1.append(i)\n",
    "    list2.append(i+1)\n",
    "list.append(list1)\n",
    "list.append(list2)"
   ]
  },
  {
   "cell_type": "code",
   "execution_count": 19,
   "id": "fa83102e",
   "metadata": {},
   "outputs": [
    {
     "data": {
      "text/plain": [
       "[2, 3, 4, 5]"
      ]
     },
     "execution_count": 19,
     "metadata": {},
     "output_type": "execute_result"
    }
   ],
   "source": [
    "a"
   ]
  },
  {
   "cell_type": "code",
   "execution_count": 20,
   "id": "721300a0",
   "metadata": {},
   "outputs": [],
   "source": [
    "obj={}"
   ]
  },
  {
   "cell_type": "code",
   "execution_count": 21,
   "id": "3d702c5c",
   "metadata": {},
   "outputs": [],
   "source": [
    "for i in range(0,6):\n",
    "    obj['list_'+str(i)]=[]\n",
    "\n",
    "for i in range(0,6):\n",
    "    if i >=2 and i <5:\n",
    "        for j in range(i,i+3):\n",
    "            obj['list_'+str(i-2)].append(j)\n",
    "            \n",
    "    if i <2:\n",
    "        for j in range(i+2,i+6):\n",
    "            #print(j)\n",
    "            obj['list_'+str(i+3)].append(j)\n",
    "    \n",
    "    elif i == 5:\n",
    "        for j in range(i-5,i):\n",
    "            obj['list_'+str(i)].append(obj['list_'+str(j)])"
   ]
  },
  {
   "cell_type": "code",
   "execution_count": 22,
   "id": "bbda21e8",
   "metadata": {},
   "outputs": [
    {
     "data": {
      "text/plain": [
       "{'list_0': [2, 3, 4],\n",
       " 'list_1': [3, 4, 5],\n",
       " 'list_2': [4, 5, 6],\n",
       " 'list_3': [2, 3, 4, 5],\n",
       " 'list_4': [3, 4, 5, 6],\n",
       " 'list_5': [[2, 3, 4], [3, 4, 5], [4, 5, 6], [2, 3, 4, 5], [3, 4, 5, 6]]}"
      ]
     },
     "execution_count": 22,
     "metadata": {},
     "output_type": "execute_result"
    }
   ],
   "source": [
    "obj"
   ]
  },
  {
   "cell_type": "code",
   "execution_count": 23,
   "id": "47d31358",
   "metadata": {},
   "outputs": [],
   "source": [
    "list=[]\n",
    "for i in range(1,4):\n",
    "    for j in range(1,4):\n",
    "        a = (j,i)\n",
    "        list.append(a)"
   ]
  },
  {
   "cell_type": "code",
   "execution_count": 24,
   "id": "f13caa5e",
   "metadata": {},
   "outputs": [
    {
     "data": {
      "text/plain": [
       "[(1, 1), (2, 1), (3, 1), (1, 2), (2, 2), (3, 2), (1, 3), (2, 3), (3, 3)]"
      ]
     },
     "execution_count": 24,
     "metadata": {},
     "output_type": "execute_result"
    }
   ],
   "source": [
    "list"
   ]
  }
 ],
 "metadata": {
  "kernelspec": {
   "display_name": "Python 3",
   "language": "python",
   "name": "python3"
  },
  "language_info": {
   "codemirror_mode": {
    "name": "ipython",
    "version": 3
   },
   "file_extension": ".py",
   "mimetype": "text/x-python",
   "name": "python",
   "nbconvert_exporter": "python",
   "pygments_lexer": "ipython3",
   "version": "3.8.5"
  }
 },
 "nbformat": 4,
 "nbformat_minor": 5
}
